{
 "cells": [
  {
   "cell_type": "code",
   "execution_count": null,
   "metadata": {},
   "outputs": [],
   "source": [
    "import geopandas as gpd\n",
    "\n",
    "shape_folder = 'shapes'\n",
    "shp_distritos = '/distritos censales/Distritos Censales con GSE.shp'\n",
    "shp_salud = '/equipamiento de salud/Equipamiento Salud.shp'\n",
    "shp_metro = '/metro/metro.shp'"
   ]
  },
  {
   "cell_type": "code",
   "execution_count": null,
   "metadata": {},
   "outputs": [],
   "source": [
    "distritos = gpd.read_file(shape_folder + shp_distritos)\n",
    "salud = gpd.read_file(shape_folder + shp_salud)\n",
    "metro = gpd.read_file(shape_folder + shp_metro)"
   ]
  }
 ],
 "metadata": {
  "kernelspec": {
   "display_name": "Python 3",
   "language": "python",
   "name": "python3"
  },
  "language_info": {
   "codemirror_mode": {
    "name": "ipython",
    "version": 3
   },
   "file_extension": ".py",
   "mimetype": "text/x-python",
   "name": "python",
   "nbconvert_exporter": "python",
   "pygments_lexer": "ipython3",
   "version": "3.8.5"
  }
 },
 "nbformat": 4,
 "nbformat_minor": 4
}
